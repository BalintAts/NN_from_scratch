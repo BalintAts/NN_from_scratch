{
 "cells": [
  {
   "cell_type": "code",
   "execution_count": 88,
   "metadata": {},
   "outputs": [],
   "source": [
    "import numpy as np\n",
    "\n"
   ]
  },
  {
   "cell_type": "code",
   "execution_count": 89,
   "metadata": {},
   "outputs": [],
   "source": [
    "np.random.seed(1)"
   ]
  },
  {
   "cell_type": "code",
   "execution_count": 90,
   "metadata": {},
   "outputs": [],
   "source": [
    "def sigmoid(x):\n",
    "    return 1/(1 + np.exp(-x))"
   ]
  },
  {
   "cell_type": "code",
   "execution_count": 91,
   "metadata": {},
   "outputs": [],
   "source": [
    "def sigmoid_derivative(x):\n",
    "    return x*(1-x)"
   ]
  },
  {
   "cell_type": "code",
   "execution_count": 98,
   "metadata": {},
   "outputs": [
    {
     "name": "stdout",
     "output_type": "stream",
     "text": [
      "[-0.70648822 -0.81532281 -0.62747958 -0.30887855]\n"
     ]
    }
   ],
   "source": [
    "#this is a 4 by 1 matrix of random numbers, between -1 and 1\n",
    "weights = 2 * np.random.random((4,)) - 1\n",
    "print(weights)"
   ]
  },
  {
   "cell_type": "code",
   "execution_count": 99,
   "metadata": {},
   "outputs": [],
   "source": [
    "def train(iterations, X_train, y_train):\n",
    "    input_layer = X_train    #just for naming\n",
    "    for i in range(iterations):\n",
    "        global weights \n",
    "        outputs = sigmoid(np.dot(input_layer, weights))   #dot producto of input vector and weight matrix\n",
    "        if i == 1:\n",
    "            print(\"first predictions are: \" ,outputs)   #printing first predictions\n",
    "        error = y_train - outputs\n",
    "        adjustments = error * sigmoid_derivative(outputs)\n",
    "        #adjusting:\n",
    "        weights += np.dot(input_layer.T , adjustments)"
   ]
  },
  {
   "cell_type": "markdown",
   "metadata": {},
   "source": [
    "Adjusting weights by = error.imput.derivative_of_sigmoid(output)\n",
    "\n",
    "derivative of sigmoid = x*(1-x)"
   ]
  },
  {
   "cell_type": "code",
   "execution_count": 100,
   "metadata": {},
   "outputs": [],
   "source": [
    "def display_validate(test):\n",
    "    print(sigmoid(np.dot(test, weights)))"
   ]
  },
  {
   "cell_type": "code",
   "execution_count": 101,
   "metadata": {},
   "outputs": [],
   "source": [
    "X_train = np.array([[0,0,0,1],\n",
    "                    [0,1,1,0],\n",
    "                    [1,1,1,0],\n",
    "                    [1,1,1,1],\n",
    "                    [0,0,0,0]])\n",
    "y_train = np.array([0,0,1,1,0]).T   #the output should be the second element of the input vector in this \"dataset\"\n",
    "# .T means tranform, we have to make y to a column"
   ]
  },
  {
   "cell_type": "code",
   "execution_count": 102,
   "metadata": {},
   "outputs": [
    {
     "name": "stdout",
     "output_type": "stream",
     "text": [
      "first predictions are:  [0.41451295 0.23136625 0.14723395 0.10892178 0.5       ]\n"
     ]
    }
   ],
   "source": [
    "train(10000, X_train, y_train)"
   ]
  },
  {
   "cell_type": "code",
   "execution_count": 103,
   "metadata": {},
   "outputs": [
    {
     "name": "stdout",
     "output_type": "stream",
     "text": [
      "[0.01453549 0.01358878 0.99981223 0.98742723 0.5       ]\n"
     ]
    }
   ],
   "source": [
    "display_validate(X_train)    #there is no cross validation yet, we test the training data"
   ]
  },
  {
   "cell_type": "code",
   "execution_count": null,
   "metadata": {},
   "outputs": [],
   "source": []
  },
  {
   "cell_type": "code",
   "execution_count": null,
   "metadata": {},
   "outputs": [],
   "source": []
  }
 ],
 "metadata": {
  "kernelspec": {
   "display_name": "Python 3",
   "language": "python",
   "name": "python3"
  },
  "language_info": {
   "codemirror_mode": {
    "name": "ipython",
    "version": 3
   },
   "file_extension": ".py",
   "mimetype": "text/x-python",
   "name": "python",
   "nbconvert_exporter": "python",
   "pygments_lexer": "ipython3",
   "version": "3.7.4"
  }
 },
 "nbformat": 4,
 "nbformat_minor": 2
}
