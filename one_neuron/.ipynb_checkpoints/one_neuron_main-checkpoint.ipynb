{
 "cells": [
  {
   "cell_type": "code",
   "execution_count": 13,
   "metadata": {},
   "outputs": [],
   "source": [
    "import numpy as np\n",
    "import matplotlib.pyplot as plt"
   ]
  },
  {
   "cell_type": "code",
   "execution_count": 2,
   "metadata": {},
   "outputs": [],
   "source": [
    "np.random.seed(1)"
   ]
  },
  {
   "cell_type": "code",
   "execution_count": 3,
   "metadata": {},
   "outputs": [],
   "source": [
    "def sigmoid(x):\n",
    "    return 1/(1 + np.exp(-x))"
   ]
  },
  {
   "cell_type": "code",
   "execution_count": 4,
   "metadata": {},
   "outputs": [],
   "source": [
    "def sigmoid_derivative(x):\n",
    "    return x*(1-x)"
   ]
  },
  {
   "cell_type": "code",
   "execution_count": 5,
   "metadata": {},
   "outputs": [
    {
     "name": "stdout",
     "output_type": "stream",
     "text": [
      "[-0.16595599  0.44064899 -0.99977125 -0.39533485]\n"
     ]
    }
   ],
   "source": [
    "#this is a 4 by 1 matrix of random numbers, between -1 and 1\n",
    "weights = 2 * np.random.random((4,)) - 1\n",
    "print(weights)"
   ]
  },
  {
   "cell_type": "code",
   "execution_count": 6,
   "metadata": {},
   "outputs": [],
   "source": [
    "def train(iterations, X_train, y_train):\n",
    "    input_layer = X_train    #just for naming\n",
    "    for i in range(iterations):\n",
    "        global weights \n",
    "        outputs = sigmoid(np.dot(input_layer, weights))   #dot producto of input vector and weight matrix\n",
    "        if i == 1:\n",
    "            print(\"first predictions are: \" ,outputs)   #printing first predictions\n",
    "        error = y_train - outputs\n",
    "        adjustments = error * sigmoid_derivative(outputs)\n",
    "        #adjusting:\n",
    "        weights += np.dot(input_layer.T , adjustments)"
   ]
  },
  {
   "cell_type": "markdown",
   "metadata": {},
   "source": [
    "Adjusting weights by = error.imput.derivative_of_sigmoid(output)\n",
    "\n",
    "derivative of sigmoid = x*(1-x)"
   ]
  },
  {
   "cell_type": "code",
   "execution_count": 39,
   "metadata": {},
   "outputs": [],
   "source": [
    "def display_validate(test):\n",
    "    print(sigmoid(np.dot(test, weights)))\n",
    "    return sigmoid(np.dot(test, weights))"
   ]
  },
  {
   "cell_type": "code",
   "execution_count": 40,
   "metadata": {},
   "outputs": [],
   "source": [
    "# X_train = np.array([[0,0,0,1],\n",
    "#                     [0,1,1,0],\n",
    "#                     [1,1,1,0],\n",
    "#                     [1,1,1,1],\n",
    "#                     [0,0,0,0]])\n",
    "# y_train = np.array([0,0,1,1,0]).T   #the output should be the second element of the input vector in this \"dataset\"\n",
    "# .T means tranform, we have to make y to a column"
   ]
  },
  {
   "cell_type": "code",
   "execution_count": 41,
   "metadata": {},
   "outputs": [],
   "source": [
    "# Data 2\n",
    "X_train = np.array([[0,0,0,1],\n",
    "                    [0,1,1,0],\n",
    "                    [1,1,1,0],\n",
    "                    [1,1,1,1],\n",
    "                    [0,0,0,0],\n",
    "                    [1,0,0,0],\n",
    "                    [1,0,0,1],\n",
    "                    [0,1,1,1],\n",
    "                    [0,1,0,0]])\n",
    "y_train = np.array([.1,.2,.3,.4,0,1,.2,.3,.1]).T   #the output should be the sum of the values /10"
   ]
  },
  {
   "cell_type": "code",
   "execution_count": 42,
   "metadata": {},
   "outputs": [],
   "source": [
    "# # Data 3\n",
    "# X_train = np.array([[0,0,0,1],\n",
    "#                     [0,1,1,0],\n",
    "#                     [1,1,1,0]\n",
    "#                     [1,1,1,1],\n",
    "#                     [0,0,0,0]])\n",
    "# y_train = np.array([0,0,1,1,0]).T   "
   ]
  },
  {
   "cell_type": "code",
   "execution_count": 43,
   "metadata": {},
   "outputs": [
    {
     "name": "stdout",
     "output_type": "stream",
     "text": [
      "first predictions are:  [0.14826604 0.21189535 0.45834766 0.1283908  0.5        0.75887872\n",
      " 0.35394935 0.04471057 0.1       ]\n"
     ]
    }
   ],
   "source": [
    "train(100000, X_train, y_train)"
   ]
  },
  {
   "cell_type": "code",
   "execution_count": 44,
   "metadata": {},
   "outputs": [
    {
     "name": "stdout",
     "output_type": "stream",
     "text": [
      "[0.14826604 0.21189535 0.45834766 0.1283908  0.5        0.75887872\n",
      " 0.35394935 0.04471057 0.1       ]\n"
     ]
    }
   ],
   "source": [
    "predictions = display_validate(X_train)    #there is no cross validation yet, we test the training data"
   ]
  },
  {
   "cell_type": "code",
   "execution_count": 45,
   "metadata": {},
   "outputs": [
    {
     "data": {
      "text/plain": [
       "array([0.1, 0.2, 0.3, 0.4, 0. , 1. , 0.2, 0.3, 0.1])"
      ]
     },
     "execution_count": 45,
     "metadata": {},
     "output_type": "execute_result"
    }
   ],
   "source": [
    "y_train"
   ]
  },
  {
   "cell_type": "code",
   "execution_count": 46,
   "metadata": {},
   "outputs": [
    {
     "data": {
      "text/plain": [
       "9"
      ]
     },
     "execution_count": 46,
     "metadata": {},
     "output_type": "execute_result"
    }
   ],
   "source": [
    "y_train.size"
   ]
  },
  {
   "cell_type": "code",
   "execution_count": 47,
   "metadata": {},
   "outputs": [
    {
     "data": {
      "text/plain": [
       "9"
      ]
     },
     "execution_count": 47,
     "metadata": {},
     "output_type": "execute_result"
    }
   ],
   "source": [
    "predictions.size"
   ]
  },
  {
   "cell_type": "code",
   "execution_count": 48,
   "metadata": {},
   "outputs": [
    {
     "data": {
      "text/plain": [
       "<matplotlib.collections.PathCollection at 0x1c339932c88>"
      ]
     },
     "execution_count": 48,
     "metadata": {},
     "output_type": "execute_result"
    },
    {
     "data": {
      "image/png": "[encoded data removed]",
      "text/plain": [
       "<Figure size 432x288 with 1 Axes>"
      ]
     },
     "metadata": {
      "needs_background": "light"
     },
     "output_type": "display_data"
    }
   ],
   "source": [
    "plt.scatter(y_train,predictions)   #there is no cross validation yet, we test the training data"
   ]
  },
  {
   "cell_type": "markdown",
   "metadata": {},
   "source": [
    "wtf?"
   ]
  },
  {
   "cell_type": "code",
   "execution_count": null,
   "metadata": {},
   "outputs": [],
   "source": []
  }
 ],
 "metadata": {
  "kernelspec": {
   "display_name": "Python 3",
   "language": "python",
   "name": "python3"
  },
  "language_info": {
   "codemirror_mode": {
    "name": "ipython",
    "version": 3
   },
   "file_extension": ".py",
   "mimetype": "text/x-python",
   "name": "python",
   "nbconvert_exporter": "python",
   "pygments_lexer": "ipython3",
   "version": "3.7.4"
  }
 },
 "nbformat": 4,
 "nbformat_minor": 2
}
