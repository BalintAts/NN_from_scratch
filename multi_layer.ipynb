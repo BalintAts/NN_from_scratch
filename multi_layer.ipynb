{
 "cells": [
  {
   "cell_type": "code",
   "execution_count": 1,
   "metadata": {},
   "outputs": [],
   "source": [
    "import numpy as np\n",
    "\n",
    "np.random.seed(1)"
   ]
  },
  {
   "cell_type": "code",
   "execution_count": 2,
   "metadata": {},
   "outputs": [],
   "source": [
    "def sigmoid(x):\n",
    "    return 1/(1 + np.exp(-x))"
   ]
  },
  {
   "cell_type": "code",
   "execution_count": 3,
   "metadata": {},
   "outputs": [],
   "source": [
    "def sigmoid_derivative(x):\n",
    "    return x*(1-x)"
   ]
  },
  {
   "cell_type": "markdown",
   "metadata": {},
   "source": [
    "The network"
   ]
  },
  {
   "cell_type": "code",
   "execution_count": 4,
   "metadata": {},
   "outputs": [],
   "source": [
    "#weights between the input and hidden layer. 3 input, 4 hidden neuron\n",
    "weights0 = 2*np.random.random((3,4)) - 1\n",
    "\n",
    "#weights between the hidden layer which consist of 4 neuron, and the ouptu which is one neuron (one scalar value). \n",
    "weights1 = 2*np.random.random((4,1)) - 1"
   ]
  },
  {
   "cell_type": "code",
   "execution_count": 5,
   "metadata": {},
   "outputs": [],
   "source": [
    "#Training\n",
    "def train(iterations, X_train, y_train):\n",
    "    global weights0\n",
    "    global weights1\n",
    "    for i in range(iterations):\n",
    "\n",
    "        l0 = X_train\n",
    "        l1 = sigmoid(np.dot(l0, weights0))\n",
    "        output = sigmoid(np.dot(l1, weights1))\n",
    "        \n",
    "        #backpropagation\n",
    "        output_error = y_train -  output\n",
    "        \n",
    "        #calculate deltas       \n",
    "        output_delta = output_error*sigmoid_derivative(output)            \n",
    "        l1_error = output_delta.dot(weights1.T)\n",
    "        l1_delta = l1_error*sigmoid_derivative(l1)\n",
    "        \n",
    "        #update weights\n",
    "\n",
    "        weights1 += l1.T.dot(output_delta)\n",
    "        weights0 += l0.T.dot(l1_delta)\n",
    "        "
   ]
  },
  {
   "cell_type": "code",
   "execution_count": 6,
   "metadata": {},
   "outputs": [],
   "source": [
    "def predict(X_train):         #no test data yet\n",
    "    l0 = X_train\n",
    "    l1 = sigmoid(np.dot(l0, weights0))\n",
    "    return sigmoid(np.dot(l1, weights1))"
   ]
  },
  {
   "cell_type": "code",
   "execution_count": null,
   "metadata": {},
   "outputs": [],
   "source": []
  },
  {
   "cell_type": "code",
   "execution_count": null,
   "metadata": {},
   "outputs": [],
   "source": []
  },
  {
   "cell_type": "code",
   "execution_count": null,
   "metadata": {},
   "outputs": [],
   "source": []
  },
  {
   "cell_type": "code",
   "execution_count": null,
   "metadata": {},
   "outputs": [],
   "source": []
  },
  {
   "cell_type": "code",
   "execution_count": 7,
   "metadata": {},
   "outputs": [],
   "source": [
    "X = np.array([[0,0,1],\n",
    "             [0,1,1],\n",
    "             [1,0,1],\n",
    "             [1,1,1]])\n",
    "\n",
    "y = np.array([[0], \n",
    "              [1] , \n",
    "              [1], \n",
    "              [0]])\n",
    "# which is the same as 0,1,1,0.T"
   ]
  },
  {
   "cell_type": "code",
   "execution_count": 8,
   "metadata": {},
   "outputs": [],
   "source": [
    "train(10000, X,y)"
   ]
  },
  {
   "cell_type": "code",
   "execution_count": 9,
   "metadata": {},
   "outputs": [],
   "source": [
    "# # for i in range(iterations):\n",
    "# for i in range(10000):\n",
    "\n",
    "\n",
    "#     l0 = X\n",
    "#     l1 = sigmoid(np.dot(l0, weights0))\n",
    "#     output = sigmoid(np.dot(l1, weights1))\n",
    "\n",
    "#     #backpropagation\n",
    "#     output_error = y -  output\n",
    "\n",
    "#     #calculate deltas       \n",
    "#     output_delta = output_error*sigmoid_derivative(output)            \n",
    "#     l1_error = output_delta.dot(weights1.T)\n",
    "#     l1_delta = l1_error*sigmoid_derivative(l1)\n",
    "\n",
    "#     #update weights\n",
    "\n",
    "#     weights1 += l1.T.dot(output_delta)\n",
    "#     weights0 += l0.T.dot(l1_delta)\n",
    "\n",
    "# print(output)"
   ]
  },
  {
   "cell_type": "code",
   "execution_count": 10,
   "metadata": {},
   "outputs": [
    {
     "name": "stdout",
     "output_type": "stream",
     "text": [
      "[[0.00702172]\n",
      " [0.99101005]\n",
      " [0.99215207]\n",
      " [0.0104785 ]]\n"
     ]
    }
   ],
   "source": [
    "print(predict(X))"
   ]
  },
  {
   "cell_type": "code",
   "execution_count": null,
   "metadata": {},
   "outputs": [],
   "source": []
  },
  {
   "cell_type": "code",
   "execution_count": null,
   "metadata": {},
   "outputs": [],
   "source": []
  },
  {
   "cell_type": "code",
   "execution_count": null,
   "metadata": {},
   "outputs": [],
   "source": []
  },
  {
   "cell_type": "code",
   "execution_count": null,
   "metadata": {},
   "outputs": [],
   "source": []
  },
  {
   "cell_type": "code",
   "execution_count": null,
   "metadata": {},
   "outputs": [],
   "source": []
  },
  {
   "cell_type": "code",
   "execution_count": null,
   "metadata": {},
   "outputs": [],
   "source": []
  },
  {
   "cell_type": "code",
   "execution_count": null,
   "metadata": {},
   "outputs": [],
   "source": []
  },
  {
   "cell_type": "code",
   "execution_count": null,
   "metadata": {},
   "outputs": [],
   "source": []
  },
  {
   "cell_type": "code",
   "execution_count": null,
   "metadata": {},
   "outputs": [],
   "source": []
  }
 ],
 "metadata": {
  "kernelspec": {
   "display_name": "Python 3",
   "language": "python",
   "name": "python3"
  },
  "language_info": {
   "codemirror_mode": {
    "name": "ipython",
    "version": 3
   },
   "file_extension": ".py",
   "mimetype": "text/x-python",
   "name": "python",
   "nbconvert_exporter": "python",
   "pygments_lexer": "ipython3",
   "version": "3.7.4"
  }
 },
 "nbformat": 4,
 "nbformat_minor": 2
}
