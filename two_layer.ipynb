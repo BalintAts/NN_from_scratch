{
 "cells": [
  {
   "cell_type": "code",
   "execution_count": 7,
   "metadata": {},
   "outputs": [],
   "source": [
    "import numpy as np"
   ]
  },
  {
   "cell_type": "code",
   "execution_count": 8,
   "metadata": {},
   "outputs": [],
   "source": [
    "np.random.seed(1)"
   ]
  },
  {
   "cell_type": "code",
   "execution_count": 9,
   "metadata": {},
   "outputs": [],
   "source": [
    "def sigmoid(x):\n",
    "    return 1/(1 + np.exp(-x))"
   ]
  },
  {
   "cell_type": "code",
   "execution_count": 10,
   "metadata": {},
   "outputs": [],
   "source": [
    "def sigmoid_derivative(x):\n",
    "    return x*(1-x)"
   ]
  },
  {
   "cell_type": "code",
   "execution_count": 11,
   "metadata": {},
   "outputs": [
    {
     "name": "stdout",
     "output_type": "stream",
     "text": [
      "[[-0.16595599  0.44064899 -0.99977125 -0.39533485 -0.70648822 -0.81532281\n",
      "  -0.62747958 -0.30887855 -0.20646505  0.07763347]\n",
      " [-0.16161097  0.370439   -0.5910955   0.75623487 -0.94522481  0.34093502\n",
      "  -0.1653904   0.11737966 -0.71922612 -0.60379702]\n",
      " [ 0.60148914  0.93652315 -0.37315164  0.38464523  0.7527783   0.78921333\n",
      "  -0.82991158 -0.92189043 -0.66033916  0.75628501]\n",
      " [-0.80330633 -0.15778475  0.91577906  0.06633057  0.38375423 -0.36896874\n",
      "   0.37300186  0.66925134 -0.96342345  0.50028863]\n",
      " [ 0.97772218  0.49633131 -0.43911202  0.57855866 -0.79354799 -0.10421295\n",
      "   0.81719101 -0.4127717  -0.42444932 -0.73994286]\n",
      " [-0.96126608  0.35767107 -0.57674377 -0.46890668 -0.01685368 -0.89327491\n",
      "   0.14823521 -0.70654285  0.17861107  0.39951672]\n",
      " [-0.79533114 -0.17188802  0.38880032 -0.17164146 -0.90009308  0.07179281\n",
      "   0.32758929  0.02977822  0.88918951  0.17311008]\n",
      " [ 0.80680383 -0.72505059 -0.72144731  0.61478258 -0.20464633 -0.66929161\n",
      "   0.85501716 -0.30446828  0.50162421  0.45199597]\n",
      " [ 0.76661218  0.24734441  0.50188487 -0.30220332 -0.46014422  0.79177244\n",
      "  -0.14381762  0.92968009  0.326883    0.24339144]\n",
      " [-0.77050805  0.89897852 -0.10017573  0.15677923 -0.18372639 -0.52594604\n",
      "   0.80675904  0.14735897 -0.99425935  0.23428983]]\n"
     ]
    }
   ],
   "source": [
    "#this is a 10 by 10 matrix of random numbers, between -1 and 1\n",
    "#this represents all connections, every input neuron is connected to every \"otherlayer\"-s neuron\n",
    "weights = 2 * np.random.random((10,10)) - 1\n",
    "print(weights)"
   ]
  },
  {
   "cell_type": "code",
   "execution_count": 21,
   "metadata": {},
   "outputs": [],
   "source": [
    "def train(iterations, X_train, y_train):\n",
    "    input_layer = X_train    #just for naming\n",
    "    for i in range(iterations):\n",
    "        global weights \n",
    "        outputs = sum(sigmoid(np.dot(input_layer, weights)))/10   \n",
    "        if i == 1:\n",
    "            print(\"first predictions are: \" ,outputs)   #printing first predictions\n",
    "        error = y_train - outputs\n",
    "        adjustments = error * sigmoid_derivative(outputs)\n",
    "        #adjusting:\n",
    "        weights += np.dot(input_layer.T , adjustments)"
   ]
  },
  {
   "cell_type": "markdown",
   "metadata": {},
   "source": [
    "Adjusting weights by = error.imput.derivative_of_sigmoid(output)\n",
    "\n",
    "derivative of sigmoid = x*(1-x)"
   ]
  },
  {
   "cell_type": "code",
   "execution_count": 27,
   "metadata": {},
   "outputs": [],
   "source": [
    "def display_validate(test):\n",
    "    print (sum((sigmoid(np.dot(test, weights))))/10)"
   ]
  },
  {
   "cell_type": "code",
   "execution_count": 28,
   "metadata": {},
   "outputs": [],
   "source": [
    "#Data 1\n",
    "X_train = np.array([[0,0,0,1,0,0,1,1,1,1],\n",
    "                    [0,1,1,0,0,1,0,1,1,0],\n",
    "                    [1,1,1,0,1,1,1,1,1,1],\n",
    "                    [1,1,1,1,0,0,0,0,0,0],\n",
    "                   [0,0,0,0,0,0,0,0,0,0]])\n",
    "y_train = np.array([0,0,1,1,0]).T   #the output should be the first element of the input vector in this \"dataset\"\n",
    "# .T means tranform, we have to make y to a column"
   ]
  },
  {
   "cell_type": "code",
   "execution_count": 29,
   "metadata": {},
   "outputs": [],
   "source": [
    "# train(10000, X_train, y_train)"
   ]
  },
  {
   "cell_type": "code",
   "execution_count": 30,
   "metadata": {},
   "outputs": [
    {
     "name": "stdout",
     "output_type": "stream",
     "text": [
      "[0.2496707  0.35650368 0.16859738 0.32705824 0.14023687 0.21731541\n",
      " 0.28571442 0.2189068  0.16688663 0.35137692]\n"
     ]
    }
   ],
   "source": [
    "display_validate(X_train)    #there is no cross validation yet, we test the training data"
   ]
  },
  {
   "cell_type": "code",
   "execution_count": null,
   "metadata": {},
   "outputs": [],
   "source": []
  },
  {
   "cell_type": "code",
   "execution_count": null,
   "metadata": {},
   "outputs": [],
   "source": []
  }
 ],
 "metadata": {
  "kernelspec": {
   "display_name": "Python 3",
   "language": "python",
   "name": "python3"
  },
  "language_info": {
   "codemirror_mode": {
    "name": "ipython",
    "version": 3
   },
   "file_extension": ".py",
   "mimetype": "text/x-python",
   "name": "python",
   "nbconvert_exporter": "python",
   "pygments_lexer": "ipython3",
   "version": "3.7.4"
  }
 },
 "nbformat": 4,
 "nbformat_minor": 2
}
