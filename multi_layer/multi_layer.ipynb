{
 "cells": [
  {
   "cell_type": "code",
   "execution_count": 1,
   "metadata": {},
   "outputs": [],
   "source": [
    "import numpy as np\n",
    "\n",
    "#np.random.seed(1)"
   ]
  },
  {
   "cell_type": "code",
   "execution_count": 2,
   "metadata": {},
   "outputs": [],
   "source": [
    "def sigmoid(x):\n",
    "    return 1/(1 + np.exp(-x))"
   ]
  },
  {
   "cell_type": "code",
   "execution_count": 3,
   "metadata": {},
   "outputs": [],
   "source": [
    "def sigmoid_derivative(x):\n",
    "    return x*(1-x)"
   ]
  },
  {
   "cell_type": "markdown",
   "metadata": {},
   "source": [
    "# The network"
   ]
  },
  {
   "cell_type": "code",
   "execution_count": 4,
   "metadata": {},
   "outputs": [],
   "source": [
    "def create_network(layer_lengths):  #length of each layer in a list\n",
    "    network = []\n",
    "    for i in range(len(layer_lengths) - 1):\n",
    "        network.append(2*np.random.random((layer_lengths[i], layer_lengths[i+1])) - 1) #random matrix\n",
    "    return network"
   ]
  },
  {
   "cell_type": "code",
   "execution_count": 5,
   "metadata": {},
   "outputs": [],
   "source": [
    "#Training\n",
    "def train(iterations, X_train, y_train,network):\n",
    "    for i in range(iterations):\n",
    "        layer = X_train\n",
    "        layers = []\n",
    "        layers.append(layer)\n",
    "        for weights in network:\n",
    "            layer = sigmoid(np.dot(layer, weights))   #should give back all layer\n",
    "            layers.append(layer)\n",
    "        output = layers[-1]\n",
    "        error = y_train - output\n",
    "\n",
    "        deltas = []\n",
    "        \n",
    "        #loop for calculate and add deltas\n",
    "        j = len(network)-1 #backpropagation\n",
    "        while j >= 0:\n",
    "            layer_delta = error*sigmoid_derivative(layers[j + 1]) \n",
    "            if j > 0:\n",
    "                error = layer_delta.dot(network[j].T) \n",
    "            j -= 1\n",
    "            deltas.append(layer_delta)\n",
    "        deltas = list(reversed(deltas))\n",
    "        #loop for updates\n",
    "        for k,weights in enumerate(network):\n",
    "            weights += layers[k].T.dot(deltas[k])\n",
    "    return network"
   ]
  },
  {
   "cell_type": "code",
   "execution_count": 6,
   "metadata": {},
   "outputs": [],
   "source": [
    "def predict(X_train, network):         #no test data yet\n",
    "    layer = X_train\n",
    "    for weights in network:\n",
    "        layer = sigmoid(np.dot(layer, weights))\n",
    "    return layer"
   ]
  },
  {
   "cell_type": "markdown",
   "metadata": {},
   "source": [
    "# Main"
   ]
  },
  {
   "cell_type": "code",
   "execution_count": 7,
   "metadata": {},
   "outputs": [],
   "source": [
    "X = np.array([[0,0,1],\n",
    "             [0,1,1],\n",
    "             [1,0,1],\n",
    "             [1,1,1],\n",
    "             [0,0,1]])\n",
    "\n",
    "y = np.array([[0], \n",
    "              [1] , \n",
    "              [1], \n",
    "              [0],\n",
    "             [0]])\n",
    "# which is the same as [0,1,1,0].T"
   ]
  },
  {
   "cell_type": "code",
   "execution_count": 8,
   "metadata": {},
   "outputs": [],
   "source": [
    "network = create_network([3,4,1])"
   ]
  },
  {
   "cell_type": "code",
   "execution_count": 9,
   "metadata": {},
   "outputs": [
    {
     "data": {
      "text/plain": [
       "[array([[-0.59625125,  0.69760596, -0.47975115, -0.11131859],\n",
       "        [ 0.59936082,  0.76643033, -0.08809265,  0.06354845],\n",
       "        [-0.2868493 , -0.82668264, -0.25265423,  0.70991091]]),\n",
       " array([[-0.44377767],\n",
       "        [-0.26309987],\n",
       "        [-0.76500479],\n",
       "        [ 0.47297002]])]"
      ]
     },
     "execution_count": 9,
     "metadata": {},
     "output_type": "execute_result"
    }
   ],
   "source": [
    "network"
   ]
  },
  {
   "cell_type": "code",
   "execution_count": 10,
   "metadata": {},
   "outputs": [],
   "source": [
    "trained_network = train(10000, X,y, network)"
   ]
  },
  {
   "cell_type": "code",
   "execution_count": 11,
   "metadata": {},
   "outputs": [
    {
     "name": "stdout",
     "output_type": "stream",
     "text": [
      "[[0.00725871]\n",
      " [0.99042588]\n",
      " [0.99005423]\n",
      " [0.01015652]\n",
      " [0.00725871]]\n"
     ]
    }
   ],
   "source": [
    "print(predict(X,trained_network))"
   ]
  },
  {
   "cell_type": "code",
   "execution_count": null,
   "metadata": {},
   "outputs": [],
   "source": []
  },
  {
   "cell_type": "code",
   "execution_count": null,
   "metadata": {},
   "outputs": [],
   "source": []
  },
  {
   "cell_type": "code",
   "execution_count": null,
   "metadata": {},
   "outputs": [],
   "source": []
  },
  {
   "cell_type": "code",
   "execution_count": null,
   "metadata": {},
   "outputs": [],
   "source": []
  },
  {
   "cell_type": "code",
   "execution_count": null,
   "metadata": {},
   "outputs": [],
   "source": []
  },
  {
   "cell_type": "code",
   "execution_count": null,
   "metadata": {},
   "outputs": [],
   "source": []
  },
  {
   "cell_type": "code",
   "execution_count": null,
   "metadata": {},
   "outputs": [],
   "source": []
  }
 ],
 "metadata": {
  "kernelspec": {
   "display_name": "Python 3",
   "language": "python",
   "name": "python3"
  },
  "language_info": {
   "codemirror_mode": {
    "name": "ipython",
    "version": 3
   },
   "file_extension": ".py",
   "mimetype": "text/x-python",
   "name": "python",
   "nbconvert_exporter": "python",
   "pygments_lexer": "ipython3",
   "version": "3.7.4"
  }
 },
 "nbformat": 4,
 "nbformat_minor": 2
}
