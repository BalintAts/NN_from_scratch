{
 "cells": [
  {
   "cell_type": "code",
   "execution_count": 1,
   "metadata": {},
   "outputs": [],
   "source": [
    "import numpy as np"
   ]
  },
  {
   "cell_type": "code",
   "execution_count": 2,
   "metadata": {},
   "outputs": [],
   "source": [
    "def sigmoid(x):\n",
    "    return 1/(1 + np.exp(-x))"
   ]
  },
  {
   "cell_type": "code",
   "execution_count": 3,
   "metadata": {},
   "outputs": [],
   "source": [
    "def sigmoid_derivative(x):\n",
    "    return x*(1-x)"
   ]
  },
  {
   "cell_type": "code",
   "execution_count": 30,
   "metadata": {},
   "outputs": [],
   "source": [
    "def create_network(layer_lengths):  #length of each layer in a list\n",
    "    network = []\n",
    "    for i in range(len(layer_lengths) - 1):\n",
    "        network.append(2*np.random.random((layer_lengths[i], layer_lengths[i+1])) - 1) #random matrix\n",
    "    return network"
   ]
  },
  {
   "cell_type": "code",
   "execution_count": 31,
   "metadata": {},
   "outputs": [
    {
     "name": "stdout",
     "output_type": "stream",
     "text": [
      "[array([[ 0.25837784,  0.85220065,  0.98996447, -0.879275  ],\n",
      "       [ 0.95477542,  0.41141195,  0.21665187, -0.47569531],\n",
      "       [-0.6711793 , -0.39995612, -0.88295467, -0.05783737]]), array([[-0.35113162],\n",
      "       [-0.39309511],\n",
      "       [-0.1674902 ],\n",
      "       [ 0.80067181]])]\n"
     ]
    }
   ],
   "source": [
    "print(create_network([3,4,1]))  "
   ]
  },
  {
   "cell_type": "code",
   "execution_count": 19,
   "metadata": {},
   "outputs": [],
   "source": [
    "def forward_propagate(network, input_vector):\n",
    "    layer = input_vector\n",
    "    for weights in network:\n",
    "        layer = sigmoid(np.dot(layer, weights))\n",
    "    return layer"
   ]
  },
  {
   "cell_type": "code",
   "execution_count": null,
   "metadata": {},
   "outputs": [],
   "source": [
    "def train(network, output, expected):\n",
    "    layer = output\n",
    "    for i in reversed(range(len(network))):\n",
    "            layer_delta = error*sigmoid_derivative(layer)  \n",
    "            error = layer_delta.dot(network[i].T)\n",
    "            layer = sigmoid(np.dot(layer, network[i])) \n",
    "            network[i] += network[i].T.dot(layer_delta)"
   ]
  }
 ],
 "metadata": {
  "kernelspec": {
   "display_name": "Python 3",
   "language": "python",
   "name": "python3"
  },
  "language_info": {
   "codemirror_mode": {
    "name": "ipython",
    "version": 3
   },
   "file_extension": ".py",
   "mimetype": "text/x-python",
   "name": "python",
   "nbconvert_exporter": "python",
   "pygments_lexer": "ipython3",
   "version": "3.7.4"
  }
 },
 "nbformat": 4,
 "nbformat_minor": 2
}
